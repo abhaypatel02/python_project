{
 "cells": [
  {
   "cell_type": "markdown",
   "id": "ce481a32",
   "metadata": {},
   "source": [
    "# send messages unlimited in few seconds"
   ]
  },
  {
   "cell_type": "code",
   "execution_count": null,
   "id": "76931cb2",
   "metadata": {},
   "outputs": [],
   "source": [
    "import pyautogui as pg\n",
    "import time\n",
    "time.sleep(10)\n",
    "\n",
    "for i in range(100):\n",
    "    pg.write('hii, welocom to my world')\n",
    "    pg.press('enter')"
   ]
  },
  {
   "cell_type": "code",
   "execution_count": 4,
   "id": "e407c109",
   "metadata": {},
   "outputs": [
    {
     "name": "stdout",
     "output_type": "stream",
     "text": [
      "Tuesday\n"
     ]
    }
   ],
   "source": [
    "import datetime\n",
    "import calendar as c\n",
    "d = datetime. date(2003, 1, 21)\n",
    "print(c.day_name[d.weekday()])"
   ]
  },
  {
   "cell_type": "code",
   "execution_count": 5,
   "id": "2f355769",
   "metadata": {},
   "outputs": [
    {
     "name": "stdout",
     "output_type": "stream",
     "text": [
      "Wednesday\n"
     ]
    }
   ],
   "source": [
    "import datetime\n",
    "import calendar as c\n",
    "d = datetime. date(2003, 4, 2)\n",
    "print(c.day_name[d.weekday()])"
   ]
  },
  {
   "cell_type": "code",
   "execution_count": 22,
   "id": "41e26d8e",
   "metadata": {},
   "outputs": [
    {
     "name": "stdout",
     "output_type": "stream",
     "text": [
      "abhay  patel\n"
     ]
    }
   ],
   "source": [
    "a = \"abhay\"\n",
    "b = \"  patel\"\n",
    "c=a+b\n",
    "print(c)"
   ]
  },
  {
   "cell_type": "code",
   "execution_count": 1,
   "id": "3b788943",
   "metadata": {},
   "outputs": [
    {
     "name": "stdout",
     "output_type": "stream",
     "text": [
      "abhay\n"
     ]
    }
   ],
   "source": [
    "a=1\n",
    "while a==1:\n",
    "    print (\"abhay\")\n",
    "    a+=1"
   ]
  },
  {
   "cell_type": "code",
   "execution_count": 2,
   "id": "34a20af1",
   "metadata": {},
   "outputs": [],
   "source": [
    "import math"
   ]
  },
  {
   "cell_type": "code",
   "execution_count": 3,
   "id": "88578a12",
   "metadata": {},
   "outputs": [
    {
     "name": "stdout",
     "output_type": "stream",
     "text": [
      "16.0\n"
     ]
    }
   ],
   "source": [
    "a=math.pow(2,4)\n",
    "print(a)\n"
   ]
  },
  {
   "cell_type": "code",
   "execution_count": null,
   "id": "01930a07",
   "metadata": {},
   "outputs": [],
   "source": []
  }
 ],
 "metadata": {
  "kernelspec": {
   "display_name": "Python 3 (ipykernel)",
   "language": "python",
   "name": "python3"
  },
  "language_info": {
   "codemirror_mode": {
    "name": "ipython",
    "version": 3
   },
   "file_extension": ".py",
   "mimetype": "text/x-python",
   "name": "python",
   "nbconvert_exporter": "python",
   "pygments_lexer": "ipython3",
   "version": "3.10.4"
  }
 },
 "nbformat": 4,
 "nbformat_minor": 5
}
